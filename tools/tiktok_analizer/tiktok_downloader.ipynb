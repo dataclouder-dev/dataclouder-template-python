{
 "cells": [
  {
   "cell_type": "code",
   "execution_count": null,
   "metadata": {},
   "outputs": [
    {
     "name": "stdout",
     "output_type": "stream",
     "text": [
      "[vm.tiktok] Extracting URL: https://www.tiktok.com/t/ZT2UMvso3/\n",
      "[vm.tiktok] ZT2UMvso3: Downloading webpage\n",
      "[TikTok] Extracting URL: https://www.tiktok.com/@katimezabilingual_ed/video/7466085074719657262?_t=ZT-8tz7Raf36K2&_r=1\n",
      "[TikTok] 7466085074719657262: Downloading webpage\n",
      "[info] 7466085074719657262: Downloading 1 format(s): bytevc1_1080p_1606401-1\n",
      "[download] Destination: tik1.mp4\n",
      "\u001b[K[download] 100% of    8.92MiB in \u001b[1;37m00:00:01\u001b[0m at \u001b[0;32m4.73MiB/s\u001b[0m0;33m00:00\u001b[0m\n"
     ]
    }
   ],
   "source": [
    "# !yt-dlp -o \"tik1.mp4\" \"https://www.tiktok.com/t/ZT2UMvso3/\"\n"
   ]
  },
  {
   "cell_type": "code",
   "execution_count": 1,
   "metadata": {},
   "outputs": [
    {
     "ename": "ImportError",
     "evalue": "attempted relative import with no known parent package",
     "output_type": "error",
     "traceback": [
      "\u001b[0;31m---------------------------------------------------------------------------\u001b[0m",
      "\u001b[0;31mImportError\u001b[0m                               Traceback (most recent call last)",
      "Cell \u001b[0;32mIn[1], line 2\u001b[0m\n\u001b[1;32m      1\u001b[0m \u001b[38;5;28;01mimport\u001b[39;00m\u001b[38;5;250m \u001b[39m\u001b[38;5;21;01mtiktik_analizer\u001b[39;00m\n\u001b[0;32m----> 2\u001b[0m \u001b[38;5;28;01mfrom\u001b[39;00m\u001b[38;5;250m \u001b[39m\u001b[38;5;21;01m.\u001b[39;00m\u001b[38;5;250m \u001b[39m\u001b[38;5;28;01mimport\u001b[39;00m tiktok_downloader\n\u001b[1;32m      4\u001b[0m tiktok_downloader\u001b[38;5;241m.\u001b[39mlog_retry(\u001b[38;5;124m'\u001b[39m\u001b[38;5;124mhttps://www.tiktok.com/@tiktok/video/7000000000000000000\u001b[39m\u001b[38;5;124m'\u001b[39m)\n",
      "\u001b[0;31mImportError\u001b[0m: attempted relative import with no known parent package"
     ]
    }
   ],
   "source": [
    "from . import tiktok_downloader\n",
    "\n",
    "tiktok_downloader.log_retry('https://www.tiktok.com/@tiktok/video/7000000000000000000')"
   ]
  }
 ],
 "metadata": {
  "kernelspec": {
   "display_name": "video-analysis3",
   "language": "python",
   "name": "python3"
  },
  "language_info": {
   "codemirror_mode": {
    "name": "ipython",
    "version": 3
   },
   "file_extension": ".py",
   "mimetype": "text/x-python",
   "name": "python",
   "nbconvert_exporter": "python",
   "pygments_lexer": "ipython3",
   "version": "3.12.9"
  }
 },
 "nbformat": 4,
 "nbformat_minor": 2
}
